{
 "cells": [
  {
   "cell_type": "code",
   "execution_count": 1,
   "metadata": {
    "collapsed": true
   },
   "outputs": [],
   "source": [
    "from ultralytics import YOLO"
   ]
  },
  {
   "cell_type": "code",
   "execution_count": 3,
   "outputs": [
    {
     "name": "stdout",
     "output_type": "stream",
     "text": [
      "Model summary (fused): 168 layers, 3015788 parameters, 0 gradients, 8.1 GFLOPs\n"
     ]
    },
    {
     "name": "stderr",
     "output_type": "stream",
     "text": [
      "\u001B[34m\u001B[1mval: \u001B[0mScanning C:\\Users\\matth\\source\\repos\\CARDS\\Playing-Cards-4\\valid\\labels.cache... 2020 images, 0 backgrounds, 0 corrupt: 100%|██████████| 2020/2020 [00:00<?, ?it/s]\n",
      "                 Class     Images  Instances      Box(P          R      mAP50  mAP50-95): 100%|██████████| 127/127 [00:23<00:00,  5.41it/s]\n"
     ]
    },
    {
     "name": "stdout",
     "output_type": "stream",
     "text": [
      "                   all       2020       8080      0.998      0.998      0.995      0.804\n",
      "                   10C       2020        172      0.999          1      0.995      0.797\n",
      "                   10D       2020        161      0.999          1      0.995      0.819\n",
      "                   10H       2020        148      0.999          1      0.995      0.817\n",
      "                   10S       2020        153      0.998          1      0.995      0.822\n",
      "                    2C       2020        144      0.998          1      0.995      0.821\n",
      "                    2D       2020        165      0.999          1      0.995      0.802\n",
      "                    2H       2020        183          1      0.995      0.995      0.813\n",
      "                    2S       2020        137      0.999          1      0.995      0.817\n",
      "                    3C       2020        176      0.999      0.994      0.995      0.819\n",
      "                    3D       2020        145          1      0.981      0.995      0.825\n",
      "                    3H       2020        168          1      0.995      0.995      0.798\n",
      "                    3S       2020        142          1      0.993      0.995      0.803\n",
      "                    4C       2020        173      0.999          1      0.995      0.802\n",
      "                    4D       2020        119      0.992          1      0.995      0.802\n",
      "                    4H       2020        146          1      0.995      0.995      0.794\n",
      "                    4S       2020        145          1          1      0.995      0.794\n",
      "                    5C       2020        177      0.999          1      0.995      0.797\n",
      "                    5D       2020        182      0.988          1      0.995      0.802\n",
      "                    5H       2020        166      0.999          1      0.995      0.806\n",
      "                    5S       2020        157      0.987          1      0.995      0.811\n",
      "                    6C       2020        167      0.999          1      0.995      0.807\n",
      "                    6D       2020        175      0.994          1      0.995      0.811\n",
      "                    6H       2020        113      0.999          1      0.995      0.813\n",
      "                    6S       2020        129      0.999          1      0.995      0.811\n",
      "                    7C       2020        145      0.999          1      0.995      0.813\n",
      "                    7D       2020        167      0.999          1      0.995      0.791\n",
      "                    7H       2020        160          1      0.991      0.995      0.823\n",
      "                    7S       2020        148      0.998          1      0.995      0.813\n",
      "                    8C       2020        152      0.999          1      0.995      0.816\n",
      "                    8D       2020        171      0.999          1      0.995      0.801\n",
      "                    8H       2020        166      0.998          1      0.995      0.813\n",
      "                    8S       2020        152      0.999          1      0.995      0.806\n",
      "                    9C       2020        147      0.998          1      0.995      0.811\n",
      "                    9D       2020        140      0.998          1      0.995      0.793\n",
      "                    9H       2020        172          1          1      0.995      0.809\n",
      "                    9S       2020        154          1      0.999      0.995      0.802\n",
      "                    AC       2020        181      0.999          1      0.995        0.8\n",
      "                    AD       2020        146      0.997      0.993      0.995      0.794\n",
      "                    AH       2020        166      0.999          1      0.995      0.795\n",
      "                    AS       2020        144      0.992          1      0.995      0.785\n",
      "                    JC       2020        137          1          1      0.995        0.8\n",
      "                    JD       2020        145      0.998          1      0.995      0.794\n",
      "                    JH       2020        151      0.998          1      0.995       0.78\n",
      "                    JS       2020        144      0.999          1      0.995      0.769\n",
      "                    KC       2020        198      0.999          1      0.995      0.758\n",
      "                    KD       2020        144          1      0.997      0.995      0.808\n",
      "                    KH       2020        160          1      0.994      0.995      0.823\n",
      "                    KS       2020        118      0.999          1      0.995      0.792\n",
      "                    QC       2020        142      0.998          1      0.995      0.797\n",
      "                    QD       2020        174          1          1      0.995      0.813\n",
      "                    QH       2020        152          1       0.99      0.995      0.775\n",
      "                    QS       2020        161      0.996          1      0.995      0.802\n",
      "Speed: 0.7ms preprocess, 4.0ms inference, 0.0ms loss, 1.1ms postprocess per image\n",
      "Results saved to \u001B[1mC:\\Users\\matth\\runs\\detect\\val\u001B[0m\n"
     ]
    },
    {
     "data": {
      "text/plain": "array([    0.79734,     0.81918,     0.81693,     0.82247,     0.82082,     0.80192,     0.81301,     0.81736,     0.81866,     0.82529,     0.79801,     0.80335,     0.80225,     0.80195,     0.79398,     0.79362,      0.7974,     0.80204,     0.80645,      0.8114,     0.80684,     0.81103,     0.81311,     0.81108,\n           0.81305,     0.79147,     0.82264,     0.81307,     0.81559,     0.80095,     0.81333,     0.80551,     0.81084,     0.79285,      0.8094,      0.8022,     0.79964,     0.79361,     0.79506,     0.78495,     0.80037,     0.79391,     0.78004,     0.76859,     0.75822,     0.80791,     0.82347,     0.79233,\n           0.79735,     0.81344,     0.77521,     0.80199])"
     },
     "execution_count": 3,
     "metadata": {},
     "output_type": "execute_result"
    }
   ],
   "source": [
    "model = YOLO('C:/Users/matth/runs/detect/train5/weights/best.pt')\n",
    "model.to('cuda')\n",
    "\n",
    "metrics = model.val()  # no arguments needed, dataset and settings remembered\n",
    "metrics.box.map    # map50-95\n",
    "metrics.box.map50  # map50\n",
    "metrics.box.map75  # map75\n",
    "metrics.box.maps   # a list contains map50-95 of each category"
   ],
   "metadata": {
    "collapsed": false
   }
  },
  {
   "cell_type": "code",
   "execution_count": null,
   "outputs": [],
   "source": [],
   "metadata": {
    "collapsed": false
   }
  }
 ],
 "metadata": {
  "kernelspec": {
   "display_name": "Python 3",
   "language": "python",
   "name": "python3"
  },
  "language_info": {
   "codemirror_mode": {
    "name": "ipython",
    "version": 2
   },
   "file_extension": ".py",
   "mimetype": "text/x-python",
   "name": "python",
   "nbconvert_exporter": "python",
   "pygments_lexer": "ipython2",
   "version": "2.7.6"
  }
 },
 "nbformat": 4,
 "nbformat_minor": 0
}
